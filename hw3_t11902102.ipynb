{
  "nbformat": 4,
  "nbformat_minor": 0,
  "metadata": {
    "colab": {
      "provenance": [],
      "collapsed_sections": [
        "t1LjHzmPugnD"
      ],
      "mount_file_id": "1iCwp7IiX7mwXsK7IMTK-jHzLIjL2PA-B",
      "authorship_tag": "ABX9TyPjqBrfNKcbQOMSs32FGduc",
      "include_colab_link": true
    },
    "kernelspec": {
      "name": "python3",
      "display_name": "Python 3"
    },
    "language_info": {
      "name": "python"
    },
    "accelerator": "GPU",
    "gpuClass": "standard"
  },
  "cells": [
    {
      "cell_type": "markdown",
      "metadata": {
        "id": "view-in-github",
        "colab_type": "text"
      },
      "source": [
        "<a href=\"https://colab.research.google.com/github/muchofamuchness/v2/blob/master/hw3_t11902102.ipynb\" target=\"_parent\"><img src=\"https://colab.research.google.com/assets/colab-badge.svg\" alt=\"Open In Colab\"/></a>"
      ]
    },
    {
      "cell_type": "markdown",
      "source": [
        "# Initialization & Pre_processing"
      ],
      "metadata": {
        "id": "6xgz_x2WEMdW"
      }
    },
    {
      "cell_type": "code",
      "execution_count": 1,
      "metadata": {
        "id": "8VgOCLPoU4K5"
      },
      "outputs": [],
      "source": [
        "import pandas as pd\n",
        "import numpy as np\n",
        "import matplotlib.pyplot as plt\n",
        "import seaborn as sns\n",
        "import sklearn\n",
        "from sklearn import metrics\n",
        "import torch\n",
        "from torch import nn\n",
        "from torch.utils.data import DataLoader\n",
        "from torchvision import datasets\n",
        "from torch.utils.data import Dataset\n",
        "from torchvision.transforms import ToTensor\n",
        "import torch.utils.data as tud\n",
        "import plotly.graph_objects as go\n",
        "import plotly.express as px\n",
        "import datetime\n",
        "from plotly.subplots import make_subplots\n",
        "from sklearn.metrics import roc_curve, auc\n",
        "from sklearn.metrics import precision_recall_curve\n",
        "from sklearn.metrics import PrecisionRecallDisplay"
      ]
    },
    {
      "cell_type": "code",
      "source": [
        "#df_news = pd.read_csv(r\"/content/drive/MyDrive/Fintech/news_list.csv\")\n",
        "df_impr = pd.read_json(r\"/content/drive/MyDrive/Fintech/impression_v3.json\")"
      ],
      "metadata": {
        "id": "tGmIDx8cVH_C"
      },
      "execution_count": 2,
      "outputs": []
    },
    {
      "cell_type": "code",
      "source": [
        "df_impr['full_input'] = df_impr.loc[:, 'click_seq_10_onehot']\n",
        "for i in range(df_impr.shape[0]):\n",
        "  df_impr.loc[i,'full_input'].append(df_impr.loc[i,'target_news_onehot'])"
      ],
      "metadata": {
        "id": "7cKDoXn1zXGz"
      },
      "execution_count": 3,
      "outputs": []
    },
    {
      "cell_type": "code",
      "source": [
        "# make the target_news_onehot --> category 0-18, day 0-6 \n",
        "'''\n",
        "for i in range(df_impr.shape[0]):\n",
        "  for j in range(0,19):\n",
        "    if df_impr.loc[i,'target_news_onehot'][j] == 1:\n",
        "      df_impr.loc[i,'target_news_category'] = j\n",
        "      break\n",
        "  for j in range(19,27):\n",
        "    if df_impr.loc[i,'target_news_onehot'][j] == 1:\n",
        "      df_impr.loc[i,'target_news_publish_day'] = j-19\n",
        "      break\n",
        "\n",
        "df_impr.set_index('target_news_category','target_news_publish_day','y')\n",
        "'''"
      ],
      "metadata": {
        "id": "hCxFg_2CU022"
      },
      "execution_count": null,
      "outputs": []
    },
    {
      "cell_type": "code",
      "source": [
        "days = [g for n, g in df_impr.groupby(pd.Grouper(key='impression_time',freq='D'))]\n",
        "\n",
        "train_days = []\n",
        "for i in range(7): train_days.append(days[i])\n",
        "train = pd.concat(train_days)\n",
        "\n",
        "validate_days = []\n",
        "for i in range(7,9): validate_days.append(days[i])\n",
        "validate = pd.concat(validate_days)\n",
        "\n",
        "test = days[9].copy()"
      ],
      "metadata": {
        "id": "OWMA37ltxWi9"
      },
      "execution_count": 4,
      "outputs": []
    },
    {
      "cell_type": "markdown",
      "source": [
        "#  Click Prediction Model"
      ],
      "metadata": {
        "id": "8LnppNlwEWRY"
      }
    },
    {
      "cell_type": "code",
      "source": [
        "class SequenceDataset(Dataset):\n",
        "    def __init__(self, dataframe, target, features):\n",
        "        self.features = features\n",
        "        self.target = target\n",
        "        self.y = torch.tensor(dataframe[target].values).float()\n",
        "        self.x = torch.tensor(np.stack(dataframe[features].values)).float()\n",
        "\n",
        "    def __len__(self):\n",
        "        return self.x.shape[0]\n",
        "\n",
        "    def __getitem__(self, i): \n",
        "        return self.x[i], self.y[i]"
      ],
      "metadata": {
        "id": "6SMoJp_wFwjK"
      },
      "execution_count": 5,
      "outputs": []
    },
    {
      "cell_type": "code",
      "source": [
        "device = 'cuda' if torch.cuda.is_available() else 'cpu'\n",
        "features = 'full_input'\n",
        "len_features = len(df_impr['full_input'][0][0])\n",
        "target = 'y'\n",
        "batch_size = 30"
      ],
      "metadata": {
        "id": "IDeK0hxOE4No"
      },
      "execution_count": 6,
      "outputs": []
    },
    {
      "cell_type": "code",
      "source": [
        "train_dataset = SequenceDataset(\n",
        "    dataframe=train,\n",
        "    target = target,\n",
        "    features = features,\n",
        ")\n",
        "\n",
        "val_dataset = SequenceDataset(\n",
        "    validate,\n",
        "    target = target,\n",
        "    features = features,\n",
        ")\n",
        "\n",
        "test_dataset = SequenceDataset(\n",
        "    test,\n",
        "    target = target,\n",
        "    features = features,\n",
        ")\n",
        "\n",
        "train_loader = DataLoader(train_dataset, batch_size=batch_size, shuffle=True)\n",
        "test_loader = DataLoader(test_dataset, batch_size=batch_size, shuffle=False)\n",
        "val_loader = DataLoader(val_dataset, batch_size=batch_size, shuffle=False)\n",
        "\n",
        "x, y = next(iter(train_loader))"
      ],
      "metadata": {
        "id": "xuQtOiRRE1Tf"
      },
      "execution_count": 7,
      "outputs": []
    },
    {
      "cell_type": "markdown",
      "source": [
        "# Balance Dataframe"
      ],
      "metadata": {
        "id": "vOR4gDN5IJTx"
      }
    },
    {
      "cell_type": "code",
      "source": [
        "# creating a balances dataset\n",
        "df_pressed = df_impr.loc[df_impr['y'] == 1].copy()\n",
        "df_not_pressed = df_impr.loc[df_impr['y'] == 0].copy()\n",
        "\n",
        "b_size = df_pressed.shape[0]\n",
        "\n",
        "all_frames = [df_pressed[:b_size], df_not_pressed[:b_size]]\n",
        "df_balanced = pd.concat(all_frames).sample(frac = 1) # concat and shuffle\n",
        "print(f\"df balanced: {df_balanced.shape}\")\n",
        "\n",
        "train_balanced = df_balanced[:b_size].copy()\n",
        "test_balanced = df_balanced[b_size:].copy()\n",
        "print(f\"train balanced: {train_balanced.shape}\")\n",
        "print(f\"test balanced: {test_balanced.shape}\")\n",
        "\n",
        "train_dataset_balanced = SequenceDataset(\n",
        "    train_balanced,\n",
        "    target = target,\n",
        "    features = features,\n",
        ")\n",
        "\n",
        "test_dataset_balanced = SequenceDataset(\n",
        "    test_balanced,\n",
        "    target = target,\n",
        "    features = features,\n",
        ")\n",
        "\n",
        "train_loader_balanced = DataLoader(train_dataset_balanced, batch_size=batch_size, shuffle=True)\n",
        "test_loader_balanced = DataLoader(test_dataset_balanced, batch_size=batch_size, shuffle=False)\n",
        "x_balanced, y_balanced = next(iter(train_loader_balanced))"
      ],
      "metadata": {
        "colab": {
          "base_uri": "https://localhost:8080/"
        },
        "id": "wnitLfByCgjh",
        "outputId": "93387845-b0f7-4663-bf60-d29e7f9d92b2"
      },
      "execution_count": 8,
      "outputs": [
        {
          "output_type": "stream",
          "name": "stdout",
          "text": [
            "df balanced: (3038, 9)\n",
            "train balanced: (1519, 9)\n",
            "test balanced: (1519, 9)\n"
          ]
        }
      ]
    },
    {
      "cell_type": "markdown",
      "source": [
        "# For debug"
      ],
      "metadata": {
        "id": "t1LjHzmPugnD"
      }
    },
    {
      "cell_type": "code",
      "source": [
        "# for debugging!!!\n",
        "\n",
        "train_ex = df_impr.iloc[0:60].copy()\n",
        "test_ex = df_impr.iloc[60:120].copy()\n",
        "\n",
        "train_dataset_ex = SequenceDataset(\n",
        "    train_ex,\n",
        "    target = target,\n",
        "    features = features,\n",
        ")\n",
        "\n",
        "test_dataset_ex = SequenceDataset(\n",
        "    test_ex,\n",
        "    target = target,\n",
        "    features = features,\n",
        ")\n",
        "\n",
        "train_loader_ex = DataLoader(train_dataset_ex, batch_size=batch_size, shuffle=True)\n",
        "test_loader_ex = DataLoader(test_dataset_ex, batch_size=batch_size, shuffle=False)\n",
        "x_ex, y_ex = next(iter(train_loader))"
      ],
      "metadata": {
        "id": "OcFmwGuZc0a-"
      },
      "execution_count": null,
      "outputs": []
    },
    {
      "cell_type": "markdown",
      "source": [
        "# Train & Test functions"
      ],
      "metadata": {
        "id": "HfApTON_u6ct"
      }
    },
    {
      "cell_type": "code",
      "source": [
        "def train_model(data_loader, model, loss_function, optimizer):\n",
        "    total_loss = 0\n",
        "    model.train()\n",
        "    \n",
        "    for x, y in data_loader:\n",
        "        y_pred = model(x.to(device))\n",
        "        y = y.to(device)\n",
        "        loss = loss_function(y_pred, y.unsqueeze(1)) # unsqueeze so its 2D not 1D\n",
        "        optimizer.zero_grad()\n",
        "        loss.backward()\n",
        "        optimizer.step()\n",
        "        total_loss += loss.item()\n",
        "        \n",
        "    avg_loss = total_loss / len(data_loader) # this is the number of batches\n",
        "    print(f\"Train loss: {avg_loss}\")\n",
        "    return avg_loss\n",
        "\n",
        "def test_model(data_loader, model, loss_function, output_list):\n",
        "    total_loss = 0\n",
        "    model.eval()\n",
        "    y_pred = torch.Tensor().to(device)\n",
        "    y_true = torch.Tensor().to(device)\n",
        "    with torch.no_grad():\n",
        "        for x, y in data_loader:\n",
        "            y = y.to(device)\n",
        "            output = model(x.to(device))\n",
        "            total_loss += loss_function(output, y.unsqueeze(1)).item()\n",
        "            threshold = torch.tensor([0.5]).to(device)\n",
        "            out_bin = (output>threshold).float()*1\n",
        "            y_pred = torch.cat((y_pred, out_bin),0)\n",
        "            y_true = torch.cat((y_true, y),0)\n",
        "            output_list.append(output)\n",
        "\n",
        "    #accuracy = torch.eq(y_pred,y).float().mean()\n",
        "    avg_loss = total_loss / len(data_loader) # this is the number of batches\n",
        "    print(f\"Test loss: {avg_loss}\")\n",
        "    return avg_loss, y_pred, y_true #accuracy.item()"
      ],
      "metadata": {
        "id": "0-7tM8f4EICp"
      },
      "execution_count": 10,
      "outputs": []
    },
    {
      "cell_type": "markdown",
      "source": [
        "#  Bidirectional-LSTM "
      ],
      "metadata": {
        "id": "jAPkjAk8Ehqa"
      }
    },
    {
      "cell_type": "code",
      "source": [
        "class BiLSTM_Model(nn.Module):\n",
        "    def __init__(self, input_size, output_size, hidden_size, num_layers):\n",
        "        super(BiLSTM_Model, self).__init__()\n",
        "        self.hidden_size = hidden_size\n",
        "        self.num_layers = num_layers\n",
        "        self.lstm = nn.LSTM(input_size, hidden_size, num_layers, batch_first=True, bidirectional=True) # set to true\n",
        "        self.fc = nn.Linear(hidden_size * 2, output_size)# mul hid size by 2\n",
        "    \n",
        "    def forward(self, x):\n",
        "        batch_size = x.size(0)\n",
        "        hidden_state = torch.zeros(self.num_layers * 2, batch_size, self.hidden_size).requires_grad_() # mul num layers by 2\n",
        "        cell_state = torch.zeros(self.num_layers * 2, batch_size, self.hidden_size).requires_grad_() # mul num layers by 2\n",
        "        out, h = self.lstm(x.to(device), (hidden_state.to(device), cell_state.to(device)))\n",
        "        out = self.fc(out[:,-1,:]) #out = self.fc(h[0]).flatten()\n",
        "        out = torch.sigmoid(out)\n",
        "        return out"
      ],
      "metadata": {
        "id": "Va1aeBj6EhPh"
      },
      "execution_count": 11,
      "outputs": []
    },
    {
      "cell_type": "code",
      "source": [
        "bilstm_model = BiLSTM_Model(input_size=len_features, output_size=1, hidden_size=15, num_layers=2) # 2 layers\n",
        "bilstm_model.to(device)\n",
        "num_epochs = 100\n",
        "lr=0.0001\n",
        "loss_function = nn.BCELoss()\n",
        "criterion = nn.BCELoss() # nn.CrossEntropyLoss()\n",
        "optimizer = torch.optim.Adam(bilstm_model.parameters(), lr=lr)"
      ],
      "metadata": {
        "id": "fmY6IcHbEqdZ"
      },
      "execution_count": 12,
      "outputs": []
    },
    {
      "cell_type": "code",
      "source": [
        "# for debugging with balanced dataframe\n",
        "\n",
        "test_model(test_loader_balanced, bilstm_model, loss_function,[])\n",
        "epoch_loss = [list(range(num_epochs)),[],[]]\n",
        "epoch_accu = []\n",
        "for cur_epoch in range(num_epochs):\n",
        "    print(f\"----- epoch num: {cur_epoch} -----\")\n",
        "    cur_output = []\n",
        "    train_loss = train_model(train_loader_balanced, bilstm_model, loss_function, optimizer=optimizer)\n",
        "    val_loss, y_pred, y_true= test_model(test_loader_balanced, bilstm_model, loss_function,cur_output)\n",
        "    y_pred = y_pred[:,0]\n",
        "    #accuracy = torch.eq(y_pred,y_true).float().mean()\n",
        "    #print(f\"accuracy 1: {accuracy} -----\")\n",
        "    bilstm_accuracy = sklearn.metrics.accuracy_score(y_true.cpu(), y_pred.cpu())\n",
        "    print(f\"accuracy: {bilstm_accuracy} -----\")\n",
        "    epoch_loss[1].append(train_loss)\n",
        "    epoch_loss[2].append(val_loss)\n",
        "    epoch_accu.append(bilstm_accuracy.item())\n",
        "    final_outputs = cur_output if cur_epoch == num_epochs - 1 else []"
      ],
      "metadata": {
        "id": "3lvHpeM93k97",
        "colab": {
          "base_uri": "https://localhost:8080/"
        },
        "outputId": "ac781abc-d51d-4cba-eb4d-3b3c6adf7a66"
      },
      "execution_count": 13,
      "outputs": [
        {
          "output_type": "stream",
          "name": "stdout",
          "text": [
            "Test loss: 0.6928010582923889\n",
            "----- epoch num: 0 -----\n",
            "Train loss: 0.6931954972884234\n",
            "Test loss: 0.6923779915360844\n",
            "accuracy: 0.5121790651744569 -----\n",
            "----- epoch num: 1 -----\n",
            "Train loss: 0.6925354483080846\n",
            "Test loss: 0.6919899688047522\n",
            "accuracy: 0.5806451612903226 -----\n",
            "----- epoch num: 2 -----\n",
            "Train loss: 0.6918928810194427\n",
            "Test loss: 0.6913337017975602\n",
            "accuracy: 0.6425279789335089 -----\n",
            "----- epoch num: 3 -----\n",
            "Train loss: 0.691052471890169\n",
            "Test loss: 0.6904038950508716\n",
            "accuracy: 0.6938775510204082 -----\n",
            "----- epoch num: 4 -----\n",
            "Train loss: 0.6898664399689319\n",
            "Test loss: 0.6891364688966789\n",
            "accuracy: 0.6905859117840685 -----\n",
            "----- epoch num: 5 -----\n",
            "Train loss: 0.6879953765401653\n",
            "Test loss: 0.6868169050590665\n",
            "accuracy: 0.7057274522712311 -----\n",
            "----- epoch num: 6 -----\n",
            "Train loss: 0.684858129304998\n",
            "Test loss: 0.6821973744560691\n",
            "accuracy: 0.7425938117182357 -----\n",
            "----- epoch num: 7 -----\n",
            "Train loss: 0.6787830789883932\n",
            "Test loss: 0.6742385766085457\n",
            "accuracy: 0.7327188940092166 -----\n",
            "----- epoch num: 8 -----\n",
            "Train loss: 0.6674480449919608\n",
            "Test loss: 0.6583350043670804\n",
            "accuracy: 0.7386438446346281 -----\n",
            "----- epoch num: 9 -----\n",
            "Train loss: 0.6474819826144799\n",
            "Test loss: 0.6353907000784781\n",
            "accuracy: 0.7024358130348913 -----\n",
            "----- epoch num: 10 -----\n",
            "Train loss: 0.6223150889078776\n",
            "Test loss: 0.6096480406966864\n",
            "accuracy: 0.6998025016458196 -----\n",
            "----- epoch num: 11 -----\n",
            "Train loss: 0.5964266108531578\n",
            "Test loss: 0.5870920559939217\n",
            "accuracy: 0.7116524028966426 -----\n",
            "----- epoch num: 12 -----\n",
            "Train loss: 0.5743809354071524\n",
            "Test loss: 0.5676375235996994\n",
            "accuracy: 0.7307439104674127 -----\n",
            "----- epoch num: 13 -----\n",
            "Train loss: 0.5540679430260378\n",
            "Test loss: 0.5491061643058178\n",
            "accuracy: 0.7287689269256089 -----\n",
            "----- epoch num: 14 -----\n",
            "Train loss: 0.535881359203189\n",
            "Test loss: 0.5329000178505393\n",
            "accuracy: 0.7195523370638578 -----\n",
            "----- epoch num: 15 -----\n",
            "Train loss: 0.5210552408414728\n",
            "Test loss: 0.5174576704408608\n",
            "accuracy: 0.7544437129690585 -----\n",
            "----- epoch num: 16 -----\n",
            "Train loss: 0.5020189256060357\n",
            "Test loss: 0.5020614552731607\n",
            "accuracy: 0.7669519420671495 -----\n",
            "----- epoch num: 17 -----\n",
            "Train loss: 0.4852055030710557\n",
            "Test loss: 0.495276645118115\n",
            "accuracy: 0.7583936800526663 -----\n",
            "----- epoch num: 18 -----\n",
            "Train loss: 0.4707152405205895\n",
            "Test loss: 0.47858748424286934\n",
            "accuracy: 0.7748518762343647 -----\n",
            "----- epoch num: 19 -----\n",
            "Train loss: 0.45699518977427017\n",
            "Test loss: 0.47199393721187816\n",
            "accuracy: 0.7794601711652402 -----\n",
            "----- epoch num: 20 -----\n",
            "Train loss: 0.45323414954484675\n",
            "Test loss: 0.4696092997111526\n",
            "accuracy: 0.78275181040158 -----\n",
            "----- epoch num: 21 -----\n",
            "Train loss: 0.44470684230327606\n",
            "Test loss: 0.47651704736784395\n",
            "accuracy: 0.7761685319289006 -----\n",
            "----- epoch num: 22 -----\n",
            "Train loss: 0.44958892523073685\n",
            "Test loss: 0.4692695386269513\n",
            "accuracy: 0.7840684660961159 -----\n",
            "----- epoch num: 23 -----\n",
            "Train loss: 0.4390401273381476\n",
            "Test loss: 0.4630667146514444\n",
            "accuracy: 0.7847267939433838 -----\n",
            "----- epoch num: 24 -----\n",
            "Train loss: 0.4365848700205485\n",
            "Test loss: 0.46284187424416634\n",
            "accuracy: 0.7853851217906518 -----\n",
            "----- epoch num: 25 -----\n",
            "Train loss: 0.4384735810990427\n",
            "Test loss: 0.46399019044988293\n",
            "accuracy: 0.7853851217906518 -----\n",
            "----- epoch num: 26 -----\n",
            "Train loss: 0.436306052348193\n",
            "Test loss: 0.4591314114776312\n",
            "accuracy: 0.7853851217906518 -----\n",
            "----- epoch num: 27 -----\n",
            "Train loss: 0.4360063777250402\n",
            "Test loss: 0.4580240676216051\n",
            "accuracy: 0.7853851217906518 -----\n",
            "----- epoch num: 28 -----\n",
            "Train loss: 0.4310321828313902\n",
            "Test loss: 0.460837534829682\n",
            "accuracy: 0.7860434496379197 -----\n",
            "----- epoch num: 29 -----\n",
            "Train loss: 0.43155573571429534\n",
            "Test loss: 0.4617999359673145\n",
            "accuracy: 0.7847267939433838 -----\n",
            "----- epoch num: 30 -----\n",
            "Train loss: 0.4301845770256192\n",
            "Test loss: 0.45609163653616813\n",
            "accuracy: 0.7893350888742594 -----\n",
            "----- epoch num: 31 -----\n",
            "Train loss: 0.4306097270226946\n",
            "Test loss: 0.45462692485136147\n",
            "accuracy: 0.7886767610269915 -----\n",
            "----- epoch num: 32 -----\n",
            "Train loss: 0.43010636316794976\n",
            "Test loss: 0.4556199236243379\n",
            "accuracy: 0.7893350888742594 -----\n",
            "----- epoch num: 33 -----\n",
            "Train loss: 0.4263223257719302\n",
            "Test loss: 0.4574451908177021\n",
            "accuracy: 0.7880184331797235 -----\n",
            "----- epoch num: 34 -----\n",
            "Train loss: 0.4254220884804632\n",
            "Test loss: 0.4522042017357022\n",
            "accuracy: 0.7926267281105991 -----\n",
            "----- epoch num: 35 -----\n",
            "Train loss: 0.4265574409681208\n",
            "Test loss: 0.45524782409854964\n",
            "accuracy: 0.7893350888742594 -----\n",
            "----- epoch num: 36 -----\n",
            "Train loss: 0.422761131735409\n",
            "Test loss: 0.4528527850029515\n",
            "accuracy: 0.7919684002633312 -----\n",
            "----- epoch num: 37 -----\n",
            "Train loss: 0.42177941635543226\n",
            "Test loss: 0.45056763934154137\n",
            "accuracy: 0.7946017116524029 -----\n",
            "----- epoch num: 38 -----\n",
            "Train loss: 0.4223758966899386\n",
            "Test loss: 0.45056615448465537\n",
            "accuracy: 0.793285055957867 -----\n",
            "----- epoch num: 39 -----\n",
            "Train loss: 0.4238495102115706\n",
            "Test loss: 0.4528854769818923\n",
            "accuracy: 0.7899934167215273 -----\n",
            "----- epoch num: 40 -----\n",
            "Train loss: 0.4217933042376649\n",
            "Test loss: 0.44849032747979256\n",
            "accuracy: 0.7965766951942067 -----\n",
            "----- epoch num: 41 -----\n",
            "Train loss: 0.4191005399414137\n",
            "Test loss: 0.4479856777424906\n",
            "accuracy: 0.7998683344305464 -----\n",
            "----- epoch num: 42 -----\n",
            "Train loss: 0.4202047303026798\n",
            "Test loss: 0.4491325429841584\n",
            "accuracy: 0.7952600394996708 -----\n",
            "----- epoch num: 43 -----\n",
            "Train loss: 0.4183294039730932\n",
            "Test loss: 0.4488360133825564\n",
            "accuracy: 0.7952600394996708 -----\n",
            "----- epoch num: 44 -----\n",
            "Train loss: 0.421923101532693\n",
            "Test loss: 0.4484485183276382\n",
            "accuracy: 0.7952600394996708 -----\n",
            "----- epoch num: 45 -----\n",
            "Train loss: 0.41898928319706635\n",
            "Test loss: 0.45715674816393387\n",
            "accuracy: 0.7893350888742594 -----\n",
            "----- epoch num: 46 -----\n",
            "Train loss: 0.4192716286462896\n",
            "Test loss: 0.44825662993917276\n",
            "accuracy: 0.7985516787360105 -----\n",
            "----- epoch num: 47 -----\n",
            "Train loss: 0.4183764013589597\n",
            "Test loss: 0.44650498324749516\n",
            "accuracy: 0.7985516787360105 -----\n",
            "----- epoch num: 48 -----\n",
            "Train loss: 0.41904908535527247\n",
            "Test loss: 0.4494551087127012\n",
            "accuracy: 0.7959183673469388 -----\n",
            "----- epoch num: 49 -----\n",
            "Train loss: 0.41898056806302536\n",
            "Test loss: 0.45577408402573827\n",
            "accuracy: 0.7899934167215273 -----\n",
            "----- epoch num: 50 -----\n",
            "Train loss: 0.41909900512181075\n",
            "Test loss: 0.45851074363671096\n",
            "accuracy: 0.7886767610269915 -----\n",
            "----- epoch num: 51 -----\n",
            "Train loss: 0.41957815955666933\n",
            "Test loss: 0.4491261828179453\n",
            "accuracy: 0.7992100065832785 -----\n",
            "----- epoch num: 52 -----\n",
            "Train loss: 0.417844542685677\n",
            "Test loss: 0.4454462276954277\n",
            "accuracy: 0.7992100065832785 -----\n",
            "----- epoch num: 53 -----\n",
            "Train loss: 0.4139087065762165\n",
            "Test loss: 0.44565190813120675\n",
            "accuracy: 0.7972350230414746 -----\n",
            "----- epoch num: 54 -----\n",
            "Train loss: 0.41840002583522423\n",
            "Test loss: 0.4470680414461622\n",
            "accuracy: 0.7978933508887426 -----\n",
            "----- epoch num: 55 -----\n",
            "Train loss: 0.41439121464888257\n",
            "Test loss: 0.4520342607124179\n",
            "accuracy: 0.793285055957867 -----\n",
            "----- epoch num: 56 -----\n",
            "Train loss: 0.41732554985027687\n",
            "Test loss: 0.451034371175018\n",
            "accuracy: 0.793943383805135 -----\n",
            "----- epoch num: 57 -----\n",
            "Train loss: 0.41411929972031536\n",
            "Test loss: 0.44889360257223543\n",
            "accuracy: 0.7965766951942067 -----\n",
            "----- epoch num: 58 -----\n",
            "Train loss: 0.4146793043496562\n",
            "Test loss: 0.4457843385490717\n",
            "accuracy: 0.7972350230414746 -----\n",
            "----- epoch num: 59 -----\n",
            "Train loss: 0.4122623704812106\n",
            "Test loss: 0.4446192652571435\n",
            "accuracy: 0.7998683344305464 -----\n",
            "----- epoch num: 60 -----\n",
            "Train loss: 0.41396810289691477\n",
            "Test loss: 0.4460352372889425\n",
            "accuracy: 0.7978933508887426 -----\n",
            "----- epoch num: 61 -----\n",
            "Train loss: 0.4145253058157715\n",
            "Test loss: 0.44451233919929056\n",
            "accuracy: 0.7985516787360105 -----\n",
            "----- epoch num: 62 -----\n",
            "Train loss: 0.412028874836716\n",
            "Test loss: 0.4474463246616663\n",
            "accuracy: 0.7978933508887426 -----\n",
            "----- epoch num: 63 -----\n",
            "Train loss: 0.41255105126137825\n",
            "Test loss: 0.44447116232385825\n",
            "accuracy: 0.7985516787360105 -----\n",
            "----- epoch num: 64 -----\n",
            "Train loss: 0.4100004630345924\n",
            "Test loss: 0.4490822173801123\n",
            "accuracy: 0.7965766951942067 -----\n",
            "----- epoch num: 65 -----\n",
            "Train loss: 0.41028593509804967\n",
            "Test loss: 0.4463665327605079\n",
            "accuracy: 0.7978933508887426 -----\n",
            "----- epoch num: 66 -----\n",
            "Train loss: 0.4115372475455789\n",
            "Test loss: 0.44556228144496096\n",
            "accuracy: 0.8011849901250823 -----\n",
            "----- epoch num: 67 -----\n",
            "Train loss: 0.418127885928341\n",
            "Test loss: 0.4438238745810939\n",
            "accuracy: 0.7978933508887426 -----\n",
            "----- epoch num: 68 -----\n",
            "Train loss: 0.4096674612339805\n",
            "Test loss: 0.44505660206663844\n",
            "accuracy: 0.7978933508887426 -----\n",
            "----- epoch num: 69 -----\n",
            "Train loss: 0.41040873732052596\n",
            "Test loss: 0.44568538957951115\n",
            "accuracy: 0.7978933508887426 -----\n",
            "----- epoch num: 70 -----\n",
            "Train loss: 0.4069922572257472\n",
            "Test loss: 0.44766834495114344\n",
            "accuracy: 0.8011849901250823 -----\n",
            "----- epoch num: 71 -----\n",
            "Train loss: 0.4098166881823072\n",
            "Test loss: 0.4429917878964368\n",
            "accuracy: 0.7998683344305464 -----\n",
            "----- epoch num: 72 -----\n",
            "Train loss: 0.41292281887110543\n",
            "Test loss: 0.44266821356380687\n",
            "accuracy: 0.7992100065832785 -----\n",
            "----- epoch num: 73 -----\n",
            "Train loss: 0.40606890326621486\n",
            "Test loss: 0.44252893971461876\n",
            "accuracy: 0.7998683344305464 -----\n",
            "----- epoch num: 74 -----\n",
            "Train loss: 0.4095511863044664\n",
            "Test loss: 0.4432757251402911\n",
            "accuracy: 0.8011849901250823 -----\n",
            "----- epoch num: 75 -----\n",
            "Train loss: 0.40873049345670964\n",
            "Test loss: 0.4491061766942342\n",
            "accuracy: 0.7959183673469388 -----\n",
            "----- epoch num: 76 -----\n",
            "Train loss: 0.4093642766569175\n",
            "Test loss: 0.4444063340916353\n",
            "accuracy: 0.8018433179723502 -----\n",
            "----- epoch num: 77 -----\n",
            "Train loss: 0.4072292184128481\n",
            "Test loss: 0.4433890633723315\n",
            "accuracy: 0.7985516787360105 -----\n",
            "----- epoch num: 78 -----\n",
            "Train loss: 0.406740186845555\n",
            "Test loss: 0.44371479749679565\n",
            "accuracy: 0.7985516787360105 -----\n",
            "----- epoch num: 79 -----\n",
            "Train loss: 0.40261658383350746\n",
            "Test loss: 0.4557568337403092\n",
            "accuracy: 0.7913100724160632 -----\n",
            "----- epoch num: 80 -----\n",
            "Train loss: 0.4070029772964178\n",
            "Test loss: 0.44194035319721\n",
            "accuracy: 0.8005266622778143 -----\n",
            "----- epoch num: 81 -----\n",
            "Train loss: 0.40791356651222005\n",
            "Test loss: 0.4431983238341762\n",
            "accuracy: 0.7985516787360105 -----\n",
            "----- epoch num: 82 -----\n",
            "Train loss: 0.4072675126440385\n",
            "Test loss: 0.4424617442430234\n",
            "accuracy: 0.7985516787360105 -----\n",
            "----- epoch num: 83 -----\n",
            "Train loss: 0.4040628443746006\n",
            "Test loss: 0.4422806933814404\n",
            "accuracy: 0.8005266622778143 -----\n",
            "----- epoch num: 84 -----\n",
            "Train loss: 0.40414149270338173\n",
            "Test loss: 0.44222711464937997\n",
            "accuracy: 0.8005266622778143 -----\n",
            "----- epoch num: 85 -----\n",
            "Train loss: 0.4066745744032018\n",
            "Test loss: 0.44665901859601337\n",
            "accuracy: 0.7978933508887426 -----\n",
            "----- epoch num: 86 -----\n",
            "Train loss: 0.41123570618676203\n",
            "Test loss: 0.44113147025014837\n",
            "accuracy: 0.8005266622778143 -----\n",
            "----- epoch num: 87 -----\n",
            "Train loss: 0.4046868155984318\n",
            "Test loss: 0.4441308227239871\n",
            "accuracy: 0.7978933508887426 -----\n",
            "----- epoch num: 88 -----\n",
            "Train loss: 0.40318580059444203\n",
            "Test loss: 0.4418000315918642\n",
            "accuracy: 0.8011849901250823 -----\n",
            "----- epoch num: 89 -----\n",
            "Train loss: 0.4071916715771544\n",
            "Test loss: 0.4419492231864555\n",
            "accuracy: 0.8018433179723502 -----\n",
            "----- epoch num: 90 -----\n",
            "Train loss: 0.40503692510081274\n",
            "Test loss: 0.4551488955815633\n",
            "accuracy: 0.7913100724160632 -----\n",
            "----- epoch num: 91 -----\n",
            "Train loss: 0.4077021654914407\n",
            "Test loss: 0.4402785990752426\n",
            "accuracy: 0.8005266622778143 -----\n",
            "----- epoch num: 92 -----\n",
            "Train loss: 0.40620138452333565\n",
            "Test loss: 0.4430225100003037\n",
            "accuracy: 0.7978933508887426 -----\n",
            "----- epoch num: 93 -----\n",
            "Train loss: 0.40465595149526407\n",
            "Test loss: 0.44136697170781153\n",
            "accuracy: 0.7992100065832785 -----\n",
            "----- epoch num: 94 -----\n",
            "Train loss: 0.40542997215308396\n",
            "Test loss: 0.4411110609185462\n",
            "accuracy: 0.8018433179723502 -----\n",
            "----- epoch num: 95 -----\n",
            "Train loss: 0.4040803339551477\n",
            "Test loss: 0.44215809247073007\n",
            "accuracy: 0.7985516787360105 -----\n",
            "----- epoch num: 96 -----\n",
            "Train loss: 0.4059394621381573\n",
            "Test loss: 0.4401121542734258\n",
            "accuracy: 0.8018433179723502 -----\n",
            "----- epoch num: 97 -----\n",
            "Train loss: 0.4028623109939052\n",
            "Test loss: 0.4489075693429685\n",
            "accuracy: 0.7952600394996708 -----\n",
            "----- epoch num: 98 -----\n",
            "Train loss: 0.4061664705182992\n",
            "Test loss: 0.4437730341565375\n",
            "accuracy: 0.7978933508887426 -----\n",
            "----- epoch num: 99 -----\n",
            "Train loss: 0.40004610664704265\n",
            "Test loss: 0.4404128328257916\n",
            "accuracy: 0.8005266622778143 -----\n"
          ]
        }
      ]
    },
    {
      "cell_type": "code",
      "source": [
        "# real code\n",
        "test_model(val_loader, bilstm_model, loss_function,[])\n",
        "epoch_loss_lstm = [list(range(num_epochs)),[],[]]\n",
        "epoch_accu_lstm = []\n",
        "\n",
        "for cur_epoch in range(num_epochs):\n",
        "    print(f\"----- epoch num: {cur_epoch} -----\")\n",
        "    cur_output_lstm = []\n",
        "    train_loss = train_model(train_loader, bilstm_model, loss_function, optimizer=optimizer)\n",
        "    val_loss, val_accu = test_model(val_loader, bilstm_model, loss_function,cur_output_lstm)\n",
        "\n",
        "    epoch_loss_lstm[1].append(train_loss)\n",
        "    epoch_loss_lstm[2].append(val_loss)\n",
        "    epoch_accu_lstm.append(val_accu)\n",
        "    final_outputs_lstm = cur_output_lstm if cur_epoch == num_epochs - 1 else []"
      ],
      "metadata": {
        "id": "om4ABYXyEsWi"
      },
      "execution_count": null,
      "outputs": []
    },
    {
      "cell_type": "markdown",
      "source": [
        "# (iii) Training loss and validation loss Plot"
      ],
      "metadata": {
        "id": "MVRXEz1ocyN7"
      }
    },
    {
      "cell_type": "code",
      "source": [
        "plt.plot(\n",
        "    epoch_loss[0], \n",
        "    epoch_loss[1],\n",
        "    color=\"blue\",\n",
        "    label=\"train\",\n",
        ")\n",
        "plt.plot(\n",
        "    epoch_loss[0], \n",
        "    epoch_loss[2],\n",
        "    color=\"red\",\n",
        "    label=\"val\",\n",
        ")\n",
        "\n",
        "plt.plot(\n",
        "    epoch_loss[0], \n",
        "    epoch_accu,\n",
        "    color=\"green\",\n",
        "    label=\"accuracy\",\n",
        ")\n",
        "\n",
        "plt.legend()\n",
        "plt.xlabel('Epoch') \n",
        "plt.ylabel('Model_loss') \n",
        "plt.title('BiLSRM Model Loss - with balanced dataset') \n",
        "plt.show() "
      ],
      "metadata": {
        "colab": {
          "base_uri": "https://localhost:8080/",
          "height": 295
        },
        "id": "WLUQAo5aIvIG",
        "outputId": "b1d23db0-7ea2-4a61-b600-ad510ce93830"
      },
      "execution_count": 15,
      "outputs": [
        {
          "output_type": "display_data",
          "data": {
            "text/plain": [
              "<Figure size 432x288 with 1 Axes>"
            ],
            "image/png": "[encoded data removed]"
          },
          "metadata": {
            "needs_background": "light"
          }
        }
      ]
    },
    {
      "cell_type": "markdown",
      "source": [
        "# (iv) AUROC and PRC plot"
      ],
      "metadata": {
        "id": "oGFzOIyic5q0"
      }
    },
    {
      "cell_type": "code",
      "source": [
        "bilstm_accuracy = sklearn.metrics.accuracy_score(y_true.cpu(), y_pred.cpu())\n",
        "bilstm_precision = sklearn.metrics.precision_score(y_true.cpu(), y_pred.cpu())\n",
        "bilstm_recall = sklearn.metrics.recall_score(y_true.cpu(), y_pred.cpu())\n",
        "print(bilstm_accuracy)\n",
        "print(bilstm_precision)\n",
        "print(bilstm_recall)"
      ],
      "metadata": {
        "id": "KeKlrQ5OOZ_N",
        "colab": {
          "base_uri": "https://localhost:8080/"
        },
        "outputId": "34b06bcd-bec8-4d17-91bb-e940beca7d8c"
      },
      "execution_count": 16,
      "outputs": [
        {
          "output_type": "stream",
          "name": "stdout",
          "text": [
            "0.8005266622778143\n",
            "0.9489603024574669\n",
            "0.6452442159383034\n"
          ]
        }
      ]
    },
    {
      "cell_type": "code",
      "source": [
        "precision_lstm, recall_lstm, _ = precision_recall_curve(y_true.cpu(), y_pred.cpu())\n",
        "display_lr = PrecisionRecallDisplay(\n",
        "    recall = recall_lstm,\n",
        "    precision = precision_lstm)\n",
        "display_lr.plot()\n",
        "auc_lr = metrics.roc_auc_score(y_true.cpu(), y_pred.cpu())\n",
        "_ = display_lr.ax_.set_title(\"LSTM Precision-Recall curve, AP={}\".format(auc_lr))"
      ],
      "metadata": {
        "colab": {
          "base_uri": "https://localhost:8080/",
          "height": 295
        },
        "id": "f1X0e92Fudst",
        "outputId": "a14289c9-898e-4fac-f29d-be94e53693f1"
      },
      "execution_count": 17,
      "outputs": [
        {
          "output_type": "display_data",
          "data": {
            "text/plain": [
              "<Figure size 432x288 with 1 Axes>"
            ],
            "image/png": "[encoded data removed]"
          },
          "metadata": {
            "needs_background": "light"
          }
        }
      ]
    },
    {
      "cell_type": "code",
      "source": [
        "plt.plot(\n",
        "    precision_lstm, \n",
        "    recall_lstm,\n",
        "    color=\"purple\",\n",
        "    label=\"percision\",\n",
        ")\n",
        "plt.legend()\n",
        "plt.xlabel('Recall') \n",
        "plt.ylabel('Percision') \n",
        "plt.title('BiLSRM Percision-Recall  - with balanced dataset') \n",
        "plt.show() "
      ],
      "metadata": {
        "colab": {
          "base_uri": "https://localhost:8080/",
          "height": 295
        },
        "id": "oguHmb5OwU3k",
        "outputId": "c0688756-87e5-479f-9dfb-14b566861244"
      },
      "execution_count": 18,
      "outputs": [
        {
          "output_type": "display_data",
          "data": {
            "text/plain": [
              "<Figure size 432x288 with 1 Axes>"
            ],
            "image/png": "[encoded data removed]"
          },
          "metadata": {
            "needs_background": "light"
          }
        }
      ]
    },
    {
      "cell_type": "code",
      "source": [
        "fpr, tpr, thresholds = metrics.roc_curve(y_true.cpu(), y_pred.cpu(), pos_label=1)\n",
        "roc_auc = auc(fpr, tpr)\n",
        "plt.figure()\n",
        "plt.title(\"LR ROC Curve\")\n",
        "lw = 2\n",
        "plt.plot(\n",
        "    fpr,\n",
        "    tpr,\n",
        "    color=\"darkorange\",\n",
        "    lw=lw,\n",
        "    label=\"ROC curve (area = %0.2f)\" % roc_auc,\n",
        ")\n",
        "plt.legend(loc='lower right')\n"
      ],
      "metadata": {
        "colab": {
          "base_uri": "https://localhost:8080/",
          "height": 298
        },
        "id": "x9HXOj3MxNcK",
        "outputId": "36fd02c5-fb3d-4eb4-9c00-796bd63a59cc"
      },
      "execution_count": 19,
      "outputs": [
        {
          "output_type": "execute_result",
          "data": {
            "text/plain": [
              "<matplotlib.legend.Legend at 0x7f0c955c0590>"
            ]
          },
          "metadata": {},
          "execution_count": 19
        },
        {
          "output_type": "display_data",
          "data": {
            "text/plain": [
              "<Figure size 432x288 with 1 Axes>"
            ],
            "image/png": "[encoded data removed]"
          },
          "metadata": {
            "needs_background": "light"
          }
        }
      ]
    },
    {
      "cell_type": "markdown",
      "source": [
        "# (v) Bidirectional-GRU"
      ],
      "metadata": {
        "id": "I9Mho2xKyayK"
      }
    },
    {
      "cell_type": "code",
      "source": [
        "def train_model(data_loader, model, loss_function, optimizer):\n",
        "    total_loss = 0\n",
        "    model.train()\n",
        "    \n",
        "    for x, y in data_loader:\n",
        "        y_pred = model(x.to(device))\n",
        "        y = y.to(device)\n",
        "        loss = loss_function(y_pred, y.unsqueeze(1)) # unsqueeze so its 2D not 1D\n",
        "        optimizer.zero_grad()\n",
        "        loss.backward()\n",
        "        optimizer.step()\n",
        "        total_loss += loss.item()\n",
        "        \n",
        "    avg_loss = total_loss / len(data_loader) # this is the number of batches\n",
        "    print(f\"Train loss: {avg_loss}\")\n",
        "    return avg_loss\n",
        "\n",
        "def test_model(data_loader, model, loss_function, output_list):\n",
        "    total_loss = 0\n",
        "    model.eval()\n",
        "    y_pred = torch.Tensor().to(device)\n",
        "    y_true = torch.Tensor().to(device)\n",
        "    with torch.no_grad():\n",
        "        for x, y in data_loader:\n",
        "            y = y.to(device)\n",
        "            output = model(x.to(device))\n",
        "            print(f\"shape check output: {output.shape}\")\n",
        "            print(f\"shape check y: {y.shape}\")\n",
        "            total_loss += loss_function(output, y).item() #.unsqueeze(1)\n",
        "            threshold = torch.tensor([0.5]).to(device)\n",
        "            out_bin = (output>threshold).float()*1\n",
        "            y_pred = torch.cat((y_pred, out_bin),0)\n",
        "            y_true = torch.cat((y_true, y),0)\n",
        "            output_list.append(output)\n",
        "\n",
        "    #accuracy = torch.eq(y_pred,y).float().mean()\n",
        "    avg_loss = total_loss / len(data_loader) # this is the number of batches\n",
        "    print(f\"Test loss: {avg_loss}\")\n",
        "    return avg_loss, y_pred, y_true #accuracy.item()"
      ],
      "metadata": {
        "id": "qf5powH450u4"
      },
      "execution_count": 102,
      "outputs": []
    },
    {
      "cell_type": "code",
      "source": [
        "class BiGRU_Model(nn.Module):\n",
        "    def __init__(self, input_size, output_size, hidden_size, num_layers, drop_prob=0.2):\n",
        "        super(BiGRU_Model, self).__init__()\n",
        "        self.hidden_size = hidden_size\n",
        "        self.num_layers = num_layers\n",
        "        self.gru = nn.GRU(input_size, hidden_size, num_layers, batch_first=True, dropout=drop_prob, bidirectional=True) # set to true\n",
        "        self.fc = nn.Linear(hidden_size * 2, output_size)# mul hid size by 2\n",
        "    \n",
        "    def forward(self, x):\n",
        "        batch_size = x.size(0)\n",
        "        hidden_state = torch.zeros(self.num_layers * 2, batch_size, self.hidden_size).requires_grad_() # mul num layers by 2\n",
        "        #cell_state = torch.zeros(self.num_layers * 2, batch_size, self.hidden_size).requires_grad_() # mul num layers by 2\n",
        "        _, h = self.gru(x.to(device), (hidden_state.to(device)))\n",
        "        print(h.shape)\n",
        "        out = self.fc(h[0,0])#.flatten() #out = self.fc(h[0]).flatten() [:,-1,:] [0,:,0] worked a bit\n",
        "        print(f\"out shape: {out.shape}\")\n",
        "        #out = torch.sigmoid(out)\n",
        "        return h"
      ],
      "metadata": {
        "id": "s5m4vjT4y98H"
      },
      "execution_count": 138,
      "outputs": []
    },
    {
      "cell_type": "code",
      "source": [
        "bigru_model = BiGRU_Model(input_size=len_features, output_size=1, hidden_size=15, num_layers=2) # 2 layers\n",
        "bigru_model.to(device)\n",
        "num_epochs = 10\n",
        "lr=0.0001\n",
        "loss_function = nn.BCELoss()\n",
        "criterion = nn.BCELoss() # nn.CrossEntropyLoss()\n",
        "optimizer = torch.optim.Adam(bigru_model.parameters(), lr=lr)"
      ],
      "metadata": {
        "id": "kL4AfF3Ezgqd"
      },
      "execution_count": 139,
      "outputs": []
    },
    {
      "cell_type": "code",
      "source": [
        "test_model(test_loader_balanced, bigru_model, loss_function,[])"
      ],
      "metadata": {
        "colab": {
          "base_uri": "https://localhost:8080/",
          "height": 329
        },
        "id": "XRWVGLHq9r5-",
        "outputId": "33aaf7ee-9824-4296-e2b5-99b896d51ef1"
      },
      "execution_count": 140,
      "outputs": [
        {
          "output_type": "stream",
          "name": "stdout",
          "text": [
            "torch.Size([4, 30, 15])\n"
          ]
        },
        {
          "output_type": "error",
          "ename": "RuntimeError",
          "evalue": "ignored",
          "traceback": [
            "\u001b[0;31m---------------------------------------------------------------------------\u001b[0m",
            "\u001b[0;31mRuntimeError\u001b[0m                              Traceback (most recent call last)",
            "\u001b[0;32m<ipython-input-140-259556c12622>\u001b[0m in \u001b[0;36m<module>\u001b[0;34m\u001b[0m\n\u001b[0;32m----> 1\u001b[0;31m \u001b[0mtest_model\u001b[0m\u001b[0;34m(\u001b[0m\u001b[0mtest_loader_balanced\u001b[0m\u001b[0;34m,\u001b[0m \u001b[0mbigru_model\u001b[0m\u001b[0;34m,\u001b[0m \u001b[0mloss_function\u001b[0m\u001b[0;34m,\u001b[0m\u001b[0;34m[\u001b[0m\u001b[0;34m]\u001b[0m\u001b[0;34m)\u001b[0m\u001b[0;34m\u001b[0m\u001b[0;34m\u001b[0m\u001b[0m\n\u001b[0m",
            "\u001b[0;32m<ipython-input-102-61d0d7e5dfe8>\u001b[0m in \u001b[0;36mtest_model\u001b[0;34m(data_loader, model, loss_function, output_list)\u001b[0m\n\u001b[1;32m     24\u001b[0m         \u001b[0;32mfor\u001b[0m \u001b[0mx\u001b[0m\u001b[0;34m,\u001b[0m \u001b[0my\u001b[0m \u001b[0;32min\u001b[0m \u001b[0mdata_loader\u001b[0m\u001b[0;34m:\u001b[0m\u001b[0;34m\u001b[0m\u001b[0;34m\u001b[0m\u001b[0m\n\u001b[1;32m     25\u001b[0m             \u001b[0my\u001b[0m \u001b[0;34m=\u001b[0m \u001b[0my\u001b[0m\u001b[0;34m.\u001b[0m\u001b[0mto\u001b[0m\u001b[0;34m(\u001b[0m\u001b[0mdevice\u001b[0m\u001b[0;34m)\u001b[0m\u001b[0;34m\u001b[0m\u001b[0;34m\u001b[0m\u001b[0m\n\u001b[0;32m---> 26\u001b[0;31m             \u001b[0moutput\u001b[0m \u001b[0;34m=\u001b[0m \u001b[0mmodel\u001b[0m\u001b[0;34m(\u001b[0m\u001b[0mx\u001b[0m\u001b[0;34m.\u001b[0m\u001b[0mto\u001b[0m\u001b[0;34m(\u001b[0m\u001b[0mdevice\u001b[0m\u001b[0;34m)\u001b[0m\u001b[0;34m)\u001b[0m\u001b[0;34m\u001b[0m\u001b[0;34m\u001b[0m\u001b[0m\n\u001b[0m\u001b[1;32m     27\u001b[0m             \u001b[0mprint\u001b[0m\u001b[0;34m(\u001b[0m\u001b[0;34mf\"shape check output: {output.shape}\"\u001b[0m\u001b[0;34m)\u001b[0m\u001b[0;34m\u001b[0m\u001b[0;34m\u001b[0m\u001b[0m\n\u001b[1;32m     28\u001b[0m             \u001b[0mprint\u001b[0m\u001b[0;34m(\u001b[0m\u001b[0;34mf\"shape check y: {y.shape}\"\u001b[0m\u001b[0;34m)\u001b[0m\u001b[0;34m\u001b[0m\u001b[0;34m\u001b[0m\u001b[0m\n",
            "\u001b[0;32m/usr/local/lib/python3.7/dist-packages/torch/nn/modules/module.py\u001b[0m in \u001b[0;36m_call_impl\u001b[0;34m(self, *input, **kwargs)\u001b[0m\n\u001b[1;32m   1128\u001b[0m         if not (self._backward_hooks or self._forward_hooks or self._forward_pre_hooks or _global_backward_hooks\n\u001b[1;32m   1129\u001b[0m                 or _global_forward_hooks or _global_forward_pre_hooks):\n\u001b[0;32m-> 1130\u001b[0;31m             \u001b[0;32mreturn\u001b[0m \u001b[0mforward_call\u001b[0m\u001b[0;34m(\u001b[0m\u001b[0;34m*\u001b[0m\u001b[0minput\u001b[0m\u001b[0;34m,\u001b[0m \u001b[0;34m**\u001b[0m\u001b[0mkwargs\u001b[0m\u001b[0;34m)\u001b[0m\u001b[0;34m\u001b[0m\u001b[0;34m\u001b[0m\u001b[0m\n\u001b[0m\u001b[1;32m   1131\u001b[0m         \u001b[0;31m# Do not call functions when jit is used\u001b[0m\u001b[0;34m\u001b[0m\u001b[0;34m\u001b[0m\u001b[0;34m\u001b[0m\u001b[0m\n\u001b[1;32m   1132\u001b[0m         \u001b[0mfull_backward_hooks\u001b[0m\u001b[0;34m,\u001b[0m \u001b[0mnon_full_backward_hooks\u001b[0m \u001b[0;34m=\u001b[0m \u001b[0;34m[\u001b[0m\u001b[0;34m]\u001b[0m\u001b[0;34m,\u001b[0m \u001b[0;34m[\u001b[0m\u001b[0;34m]\u001b[0m\u001b[0;34m\u001b[0m\u001b[0;34m\u001b[0m\u001b[0m\n",
            "\u001b[0;32m<ipython-input-138-3eecebd592e2>\u001b[0m in \u001b[0;36mforward\u001b[0;34m(self, x)\u001b[0m\n\u001b[1;32m     13\u001b[0m         \u001b[0m_\u001b[0m\u001b[0;34m,\u001b[0m \u001b[0mh\u001b[0m \u001b[0;34m=\u001b[0m \u001b[0mself\u001b[0m\u001b[0;34m.\u001b[0m\u001b[0mgru\u001b[0m\u001b[0;34m(\u001b[0m\u001b[0mx\u001b[0m\u001b[0;34m.\u001b[0m\u001b[0mto\u001b[0m\u001b[0;34m(\u001b[0m\u001b[0mdevice\u001b[0m\u001b[0;34m)\u001b[0m\u001b[0;34m,\u001b[0m \u001b[0;34m(\u001b[0m\u001b[0mhidden_state\u001b[0m\u001b[0;34m.\u001b[0m\u001b[0mto\u001b[0m\u001b[0;34m(\u001b[0m\u001b[0mdevice\u001b[0m\u001b[0;34m)\u001b[0m\u001b[0;34m)\u001b[0m\u001b[0;34m)\u001b[0m\u001b[0;34m\u001b[0m\u001b[0;34m\u001b[0m\u001b[0m\n\u001b[1;32m     14\u001b[0m         \u001b[0mprint\u001b[0m\u001b[0;34m(\u001b[0m\u001b[0mh\u001b[0m\u001b[0;34m.\u001b[0m\u001b[0mshape\u001b[0m\u001b[0;34m)\u001b[0m\u001b[0;34m\u001b[0m\u001b[0;34m\u001b[0m\u001b[0m\n\u001b[0;32m---> 15\u001b[0;31m         \u001b[0mout\u001b[0m \u001b[0;34m=\u001b[0m \u001b[0mself\u001b[0m\u001b[0;34m.\u001b[0m\u001b[0mfc\u001b[0m\u001b[0;34m(\u001b[0m\u001b[0mh\u001b[0m\u001b[0;34m[\u001b[0m\u001b[0;36m0\u001b[0m\u001b[0;34m,\u001b[0m\u001b[0;36m0\u001b[0m\u001b[0;34m]\u001b[0m\u001b[0;34m)\u001b[0m\u001b[0;31m#.flatten() #out = self.fc(h[0]).flatten() [:,-1,:] [0,:,0] worked a bit\u001b[0m\u001b[0;34m\u001b[0m\u001b[0;34m\u001b[0m\u001b[0m\n\u001b[0m\u001b[1;32m     16\u001b[0m         \u001b[0mprint\u001b[0m\u001b[0;34m(\u001b[0m\u001b[0;34mf\"out shape: {out.shape}\"\u001b[0m\u001b[0;34m)\u001b[0m\u001b[0;34m\u001b[0m\u001b[0;34m\u001b[0m\u001b[0m\n\u001b[1;32m     17\u001b[0m         \u001b[0;31m#out = torch.sigmoid(out)\u001b[0m\u001b[0;34m\u001b[0m\u001b[0;34m\u001b[0m\u001b[0;34m\u001b[0m\u001b[0m\n",
            "\u001b[0;32m/usr/local/lib/python3.7/dist-packages/torch/nn/modules/module.py\u001b[0m in \u001b[0;36m_call_impl\u001b[0;34m(self, *input, **kwargs)\u001b[0m\n\u001b[1;32m   1128\u001b[0m         if not (self._backward_hooks or self._forward_hooks or self._forward_pre_hooks or _global_backward_hooks\n\u001b[1;32m   1129\u001b[0m                 or _global_forward_hooks or _global_forward_pre_hooks):\n\u001b[0;32m-> 1130\u001b[0;31m             \u001b[0;32mreturn\u001b[0m \u001b[0mforward_call\u001b[0m\u001b[0;34m(\u001b[0m\u001b[0;34m*\u001b[0m\u001b[0minput\u001b[0m\u001b[0;34m,\u001b[0m \u001b[0;34m**\u001b[0m\u001b[0mkwargs\u001b[0m\u001b[0;34m)\u001b[0m\u001b[0;34m\u001b[0m\u001b[0;34m\u001b[0m\u001b[0m\n\u001b[0m\u001b[1;32m   1131\u001b[0m         \u001b[0;31m# Do not call functions when jit is used\u001b[0m\u001b[0;34m\u001b[0m\u001b[0;34m\u001b[0m\u001b[0;34m\u001b[0m\u001b[0m\n\u001b[1;32m   1132\u001b[0m         \u001b[0mfull_backward_hooks\u001b[0m\u001b[0;34m,\u001b[0m \u001b[0mnon_full_backward_hooks\u001b[0m \u001b[0;34m=\u001b[0m \u001b[0;34m[\u001b[0m\u001b[0;34m]\u001b[0m\u001b[0;34m,\u001b[0m \u001b[0;34m[\u001b[0m\u001b[0;34m]\u001b[0m\u001b[0;34m\u001b[0m\u001b[0;34m\u001b[0m\u001b[0m\n",
            "\u001b[0;32m/usr/local/lib/python3.7/dist-packages/torch/nn/modules/linear.py\u001b[0m in \u001b[0;36mforward\u001b[0;34m(self, input)\u001b[0m\n\u001b[1;32m    112\u001b[0m \u001b[0;34m\u001b[0m\u001b[0m\n\u001b[1;32m    113\u001b[0m     \u001b[0;32mdef\u001b[0m \u001b[0mforward\u001b[0m\u001b[0;34m(\u001b[0m\u001b[0mself\u001b[0m\u001b[0;34m,\u001b[0m \u001b[0minput\u001b[0m\u001b[0;34m:\u001b[0m \u001b[0mTensor\u001b[0m\u001b[0;34m)\u001b[0m \u001b[0;34m->\u001b[0m \u001b[0mTensor\u001b[0m\u001b[0;34m:\u001b[0m\u001b[0;34m\u001b[0m\u001b[0;34m\u001b[0m\u001b[0m\n\u001b[0;32m--> 114\u001b[0;31m         \u001b[0;32mreturn\u001b[0m \u001b[0mF\u001b[0m\u001b[0;34m.\u001b[0m\u001b[0mlinear\u001b[0m\u001b[0;34m(\u001b[0m\u001b[0minput\u001b[0m\u001b[0;34m,\u001b[0m \u001b[0mself\u001b[0m\u001b[0;34m.\u001b[0m\u001b[0mweight\u001b[0m\u001b[0;34m,\u001b[0m \u001b[0mself\u001b[0m\u001b[0;34m.\u001b[0m\u001b[0mbias\u001b[0m\u001b[0;34m)\u001b[0m\u001b[0;34m\u001b[0m\u001b[0;34m\u001b[0m\u001b[0m\n\u001b[0m\u001b[1;32m    115\u001b[0m \u001b[0;34m\u001b[0m\u001b[0m\n\u001b[1;32m    116\u001b[0m     \u001b[0;32mdef\u001b[0m \u001b[0mextra_repr\u001b[0m\u001b[0;34m(\u001b[0m\u001b[0mself\u001b[0m\u001b[0;34m)\u001b[0m \u001b[0;34m->\u001b[0m \u001b[0mstr\u001b[0m\u001b[0;34m:\u001b[0m\u001b[0;34m\u001b[0m\u001b[0;34m\u001b[0m\u001b[0m\n",
            "\u001b[0;31mRuntimeError\u001b[0m: mat1 and mat2 shapes cannot be multiplied (1x15 and 30x1)"
          ]
        }
      ]
    },
    {
      "cell_type": "code",
      "source": [
        "# for debugging with balanced dataframe\n",
        "test_model(test_loader_balanced, bigru_model, loss_function,[])\n",
        "epoch_loss = [list(range(num_epochs)),[],[]]\n",
        "epoch_accu = []\n",
        "for cur_epoch in range(num_epochs):\n",
        "    print(f\"----- epoch num: {cur_epoch} -----\")\n",
        "    cur_output = []\n",
        "    train_loss = train_model(train_loader_balanced, bigru_model, loss_function, optimizer=optimizer)\n",
        "    val_loss, y_pred, y_true= test_model(test_loader_balanced, bigru_model, loss_function,cur_output)\n",
        "    y_pred = y_pred[:,0]\n",
        "    bilstm_accuracy = sklearn.metrics.accuracy_score(y_true.cpu(), y_pred.cpu())\n",
        "    print(f\"accuracy: {bilstm_accuracy} -----\")\n",
        "    epoch_loss[1].append(train_loss)\n",
        "    epoch_loss[2].append(val_loss)\n",
        "    epoch_accu.append(bilstm_accuracy.item())\n",
        "    final_outputs = cur_output if cur_epoch == num_epochs - 1 else []"
      ],
      "metadata": {
        "id": "C8aJ5mrHzkG3"
      },
      "execution_count": null,
      "outputs": []
    }
  ]
}